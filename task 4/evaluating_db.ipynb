{
 "cells": [
  {
   "cell_type": "code",
   "execution_count": 1,
   "metadata": {},
   "outputs": [],
   "source": [
    "import sys\n",
    "import time\n",
    "import random\n",
    "import matplotlib.pyplot as plt\n",
    "\n",
    "from kyotocabinet import *"
   ]
  },
  {
   "cell_type": "code",
   "execution_count": 2,
   "metadata": {},
   "outputs": [],
   "source": [
    "def open_db(db,filename):\n",
    "    if not db.open(filename, DB.OWRITER | DB.OCREATE):\n",
    "        print(\"open error: \" + str(db.error()), file=sys.stderr)\n",
    "    else:\n",
    "        print(filename,'opened')\n",
    "        \n",
    "\n",
    "def insert_db(db,key,value):\n",
    "    if not db.set(key,value):\n",
    "        print(\"set error: \" + str(db.error()), file=sys.stderr)\n",
    "\n",
    "        \n",
    "def retrieve_db(db,key):\n",
    "    value = db.get_str(key)\n",
    "    return 1 if value else 0\n",
    "    \n",
    "    \n",
    "def close_db(db):\n",
    "    path = db.path()\n",
    "    if not db.close():\n",
    "        print(\"close error: \" + str(db.error()), file=sys.stderr)\n",
    "    else:\n",
    "        print(path ,'closed')"
   ]
  },
  {
   "cell_type": "code",
   "execution_count": 3,
   "metadata": {},
   "outputs": [
    {
     "data": {
      "text/plain": [
       "100000"
      ]
     },
     "execution_count": 3,
     "metadata": {},
     "output_type": "execute_result"
    }
   ],
   "source": [
    "# load data\n",
    "with open('data/valid_NIS.txt', 'r') as f:\n",
    "    lines = f.readlines()\n",
    "\n",
    "data = [line[:-1] for line in lines]\n",
    "len(data)"
   ]
  },
  {
   "cell_type": "code",
   "execution_count": 4,
   "metadata": {},
   "outputs": [
    {
     "name": "stdout",
     "output_type": "stream",
     "text": [
      "hash.kch opened\n",
      "btree.kct opened\n"
     ]
    }
   ],
   "source": [
    "# create the databases objects\n",
    "hash_db  = DB()\n",
    "btree_db = DB()\n",
    "\n",
    "open_db(hash_db,'hash.kch')\n",
    "open_db(btree_db,'btree.kct')"
   ]
  },
  {
   "cell_type": "code",
   "execution_count": 5,
   "metadata": {},
   "outputs": [],
   "source": [
    "# store records\n",
    "for nis in data:\n",
    "    insert_db(hash_db,nis,0)\n",
    "    insert_db(btree_db,nis,0)"
   ]
  },
  {
   "cell_type": "code",
   "execution_count": 6,
   "metadata": {},
   "outputs": [
    {
     "name": "stdout",
     "output_type": "stream",
     "text": [
      "1\n",
      "1\n",
      "0\n",
      "0\n"
     ]
    }
   ],
   "source": [
    "# testing\n",
    "existent_nis = data[500]\n",
    "nonexistent_nis = '0000000000'\n",
    "\n",
    "print(retrieve_db(hash_db,existent_nis))\n",
    "print(retrieve_db(btree_db,existent_nis))\n",
    "\n",
    "print(retrieve_db(hash_db,nonexistent_nis))\n",
    "print(retrieve_db(btree_db,nonexistent_nis))"
   ]
  },
  {
   "cell_type": "code",
   "execution_count": 7,
   "metadata": {},
   "outputs": [
    {
     "name": "stdout",
     "output_type": "stream",
     "text": [
      "...................................................................................................."
     ]
    }
   ],
   "source": [
    "# evaluating\n",
    "hash_time = list()\n",
    "btree_time = list()\n",
    "step = 1000\n",
    "batchs = list(range(step,len(data)+step,step))\n",
    "\n",
    "for batch in batchs:\n",
    "    random.shuffle(data)\n",
    "    # hash_db search\n",
    "    start = time.time()\n",
    "    for idx in range(batch):\n",
    "        retrieve_db(hash_db,data[idx])\n",
    "    hash_time.append(time.time() - start)\n",
    "    # btree_db search\n",
    "    start = time.time()\n",
    "    for idx in range(batch):\n",
    "        retrieve_db(btree_db,data[idx])\n",
    "    btree_time.append(time.time() - start)\n",
    "    print('.', end='')"
   ]
  },
  {
   "cell_type": "code",
   "execution_count": 8,
   "metadata": {},
   "outputs": [
    {
     "data": {
      "image/png": "[encoded data removed]",
      "text/plain": [
       "<Figure size 432x288 with 1 Axes>"
      ]
     },
     "metadata": {
      "needs_background": "light"
     },
     "output_type": "display_data"
    }
   ],
   "source": [
    "# consolidate\n",
    "fig, ax = plt.subplots()\n",
    "ax.plot(batchs, hash_time, label='hash_time')\n",
    "ax.plot(batchs, btree_time, label='btree_time')\n",
    "ax.set(xlabel='Number of NIS', ylabel='Time', title='Performance')\n",
    "\n",
    "plt.legend()\n",
    "plt.savefig('evaluating.png')\n",
    "plt.show()"
   ]
  },
  {
   "cell_type": "code",
   "execution_count": 9,
   "metadata": {},
   "outputs": [
    {
     "name": "stdout",
     "output_type": "stream",
     "text": [
      "hash.kch closed\n",
      "btree.kct closed\n"
     ]
    }
   ],
   "source": [
    "close_db(hash_db)\n",
    "close_db(btree_db)"
   ]
  }
 ],
 "metadata": {
  "kernelspec": {
   "display_name": "Python 3",
   "language": "python",
   "name": "python3"
  },
  "language_info": {
   "codemirror_mode": {
    "name": "ipython",
    "version": 3
   },
   "file_extension": ".py",
   "mimetype": "text/x-python",
   "name": "python",
   "nbconvert_exporter": "python",
   "pygments_lexer": "ipython3",
   "version": "3.7.3"
  }
 },
 "nbformat": 4,
 "nbformat_minor": 2
}
